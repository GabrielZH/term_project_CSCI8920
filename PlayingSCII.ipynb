{
  "nbformat": 4,
  "nbformat_minor": 0,
  "metadata": {
    "colab": {
      "name": "PlayingSCII.ipynb",
      "version": "0.3.2",
      "provenance": [],
      "collapsed_sections": []
    },
    "kernelspec": {
      "name": "python3",
      "display_name": "Python 3"
    },
    "accelerator": "GPU"
  },
  "cells": [
    {
      "metadata": {
        "id": "UqnCTjgVC5aL",
        "colab_type": "text"
      },
      "cell_type": "markdown",
      "source": [
        "# Term Project\n",
        "# Playing Starcraft II Mini Games by Model-Free Deep Reinforcement Learning"
      ]
    },
    {
      "metadata": {
        "id": "h1wrmdbWEnoV",
        "colab_type": "text"
      },
      "cell_type": "markdown",
      "source": [
        "# 0 Dependencies Praparation"
      ]
    },
    {
      "metadata": {
        "id": "lhYDVBTqFNo-",
        "colab_type": "text"
      },
      "cell_type": "markdown",
      "source": [
        "## 0.1 Starcraft II -- The Game Environment"
      ]
    },
    {
      "metadata": {
        "id": "OIGfZAGRVcPx",
        "colab_type": "text"
      },
      "cell_type": "markdown",
      "source": [
        "Download any of a zip package with version 3.16.1 or above from the Blizzard SC2 repository."
      ]
    },
    {
      "metadata": {
        "id": "YugQkLU2F8Qp",
        "colab_type": "code",
        "colab": {}
      },
      "cell_type": "code",
      "source": [
        "!wget http://http://blzdistsc2-a.akamaihd.net/Linux/SC2.4.7.1.zip"
      ],
      "execution_count": 0,
      "outputs": []
    },
    {
      "metadata": {
        "id": "0kSWLZyNW_jM",
        "colab_type": "text"
      },
      "cell_type": "markdown",
      "source": [
        "*  Since each zipped file is password protected with the password \"iagreetothe eula\", we need to type in the password to agree to be bound by the terms of the **AI and Machine Learning License** while unzipping it.\n",
        "*  We should extract and place the folder of the game under the root directory, because this is the default expected directory to find Starcraft II by PySC2.\n",
        "\n"
      ]
    },
    {
      "metadata": {
        "id": "-RMgMftsVYNS",
        "colab_type": "code",
        "colab": {}
      },
      "cell_type": "code",
      "source": [
        "!unzip -P iagreetotheeula SC2.4.7.1.zip -d ~"
      ],
      "execution_count": 0,
      "outputs": []
    },
    {
      "metadata": {
        "id": "U5odYb3XNEjw",
        "colab_type": "text"
      },
      "cell_type": "markdown",
      "source": [
        "## 0.2 PySC2 -- Official Research Toolkit by Deepmind"
      ]
    },
    {
      "metadata": {
        "id": "EFuZTCVaNcDh",
        "colab_type": "code",
        "colab": {}
      },
      "cell_type": "code",
      "source": [
        ""
      ],
      "execution_count": 0,
      "outputs": []
    },
    {
      "metadata": {
        "id": "KSM2kJ4-NciC",
        "colab_type": "text"
      },
      "cell_type": "markdown",
      "source": [
        "## 0.3 Reaver  -- Modular Deep RL Framework"
      ]
    },
    {
      "metadata": {
        "id": "5yaLgCA5OFGX",
        "colab_type": "code",
        "colab": {}
      },
      "cell_type": "code",
      "source": [
        "!pip install reaver==2.0"
      ],
      "execution_count": 0,
      "outputs": []
    },
    {
      "metadata": {
        "id": "tKGfcXhDOg87",
        "colab_type": "text"
      },
      "cell_type": "markdown",
      "source": [
        "## 0.4 tcmalloc (uninstall)\n",
        "Remove Google's tcmalloc which seems to conflict with Starcraft II."
      ]
    },
    {
      "metadata": {
        "id": "gBeQoqb7O1aK",
        "colab_type": "code",
        "colab": {}
      },
      "cell_type": "code",
      "source": [
        "!apt remove libtcmalloc*"
      ],
      "execution_count": 0,
      "outputs": []
    },
    {
      "metadata": {
        "id": "Zpwrsi8iCJv7",
        "colab_type": "code",
        "colab": {}
      },
      "cell_type": "code",
      "source": [
        "!python -m reaver.run --env CollectMineralShards --agent a2c --envs 2 --log_freq 25 --updates 5000"
      ],
      "execution_count": 0,
      "outputs": []
    }
  ]
}